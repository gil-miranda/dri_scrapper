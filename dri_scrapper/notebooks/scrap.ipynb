{
 "cells": [
  {
   "cell_type": "code",
   "execution_count": 8,
   "metadata": {},
   "outputs": [],
   "source": [
    "import requests\n",
    "from bs4 import BeautifulSoup"
   ]
  },
  {
   "cell_type": "code",
   "execution_count": 2,
   "metadata": {},
   "outputs": [],
   "source": [
    "URL = \"https://dri.ufrj.br/index.php/pt/intercambio/chamadas\""
   ]
  },
  {
   "cell_type": "code",
   "execution_count": 6,
   "metadata": {},
   "outputs": [],
   "source": [
    "page = requests.get(URL)"
   ]
  },
  {
   "cell_type": "code",
   "execution_count": 11,
   "metadata": {},
   "outputs": [],
   "source": [
    "soup = BeautifulSoup(page.content, 'html.parser')"
   ]
  },
  {
   "cell_type": "code",
   "execution_count": 27,
   "metadata": {},
   "outputs": [],
   "source": [
    "result = soup.find(class_='articleBody')"
   ]
  },
  {
   "cell_type": "code",
   "execution_count": 26,
   "metadata": {},
   "outputs": [
    {
     "name": "stdout",
     "output_type": "stream",
     "text": [
      "[<h3>COVID-19 prevención y riesgos / prevention and risks</h3>, <h3>Contatos</h3>, <h3><strong> Edital ESCALA Gestores e Administradores da AUGM - Técnicos Administrativos da UFRJ</strong></h3>, <h3><strong>Prorrogado! Edital de Mobilidade ESCALA Docente - AUGM</strong></h3>, <h3><strong>Programa Escala Estudantil de Graduação AUGM - Prorrogado até 01/05/2022</strong></h3>, <h3><strong>Programa de Mobilidade Regular</strong></h3>, <h3><strong>Intercâmbio - REARI 2/2022 - Universidade Aix-Marseille</strong></h3>, <h3><strong>Bolsas para o Freie Universität Berlin international Summer and Winter University (FUBiS) Term III-2022</strong></h3>, <h3>Intercâmbio de Graduação da Rede REARI- UTRECHT</h3>, <h3><strong>Faculdade de Medicina - Edital 929/2021</strong></h3>, <h3><span style=\"font-size: 12pt;\">Rede Magalhães - Edital 885/2021</span></h3>, <h3><strong>Edital 740/2021 Erasmus+ La Sapienza de Roma</strong></h3>, <h3>Edital Medicina - 602/2021</h3>, <h3>Erasmus+ La Sapienza de Roma -atualizado 03/03/2021</h3>, <h3> <strong>Rede Magalhães - Edital 250/2020</strong></h3>, <h3><strong>Programa de Bolsas Ibero Americanas Santander Universidades Edição 2020</strong></h3>, <h3><span>Escala Estudantil - AUGM - CANCELADO</span></h3>, <h3><span>Edital 62/2020 - Mobilidade Regular 2020-2 e 2021-1 CANCELADO</span></h3>, <h3> Programa REARI-RJ – Utrecht 2020-2 e Utrecht 2021-1 </h3>, <h3><span>Programa de Mobilidade Regular  - Faculdade de Medicina</span> - CANCELADO</h3>, <h3><span>Mobilidade Regular 2020-2 - Edital 787/2019</span></h3>, <h3><span>Programa ESCALA Docente - AUGM</span></h3>, <h3><span style=\"font-size: 14pt;\">Programa ESCALA Estudantil Grado - PEEG AUGM</span></h3>, <h3><span style=\"font-size: 14pt;\">Programa Smile - Rede Magalhães - Edital 569/2019</span></h3>, <h3><span style=\"font-size: 14pt;\">Mobilidade Regular 2020-1 - Edital 522/2019</span></h3>, <h3><span style=\"font-size: 14pt;\">Programa Santander Ibero-Americanas  - 2019</span></h3>, <h3> <span>Erasmus+ Rec-Mat – Universidade de Ghent - Ciências Biológicas </span></h3>, <h3>Faculdade de Medicina - Edital de Vagas Remanescentes.</h3>, <h3>Programa de Mobilidade Regular  - Faculdade de Medicina</h3>, <h3>Programa de Mobilidade Especial  da Faculdade de Medicina</h3>, <h3>1ª Chamada Erasmus+ ICM2018 Université Côte d'azur</h3>, <h3>Classificação Rede Magalhães</h3>, <h3>Programa REARI-RJ – Utrecht 2019</h3>, <h3>Programa de Mobilidade Regular - PMR</h3>, <h3>Programa ESCALA Estudantil  Grado - PEEG AUGM</h3>, <h3>Programa SMILE - Rede Magalhães</h3>, <h3><span style=\"font-size: 8pt;\"><strong>Classificação Final da segunda chamada do programa Erasmus+ ICM17UNS 2018</strong></span></h3>, <h3>Chamada do Programa Erasmus+ ICM17 UNS</h3>, <h3>Chamada do Programa Erasmus+ UFRJ-FUB</h3>, <h3>Programa ESCALA Docente - PED AUGM</h3>, <h3>Programa de Mobilidade Regular - Edital 804/2018</h3>, <h3>Programa ESCALA Estudantil Grado - PEEG AUGM</h3>, <h3><span>Programa Santander Ibero-americanas</span></h3>, <h3>Programa ESCALA Docente - PED AUGM</h3>, <h3>Pesquisar</h3>, <h3>Notícias</h3>, <h3>Onde estamos</h3>]\n"
     ]
    }
   ],
   "source": [
    "print(result)"
   ]
  },
  {
   "cell_type": "code",
   "execution_count": null,
   "metadata": {},
   "outputs": [],
   "source": []
  }
 ],
 "metadata": {
  "interpreter": {
   "hash": "4b3d909fc0a1449bb970eafd5d9b7cdbe1d742cf18b049e3f505d348c5003ba5"
  },
  "kernelspec": {
   "display_name": "Python 3.9.13 ('.env': venv)",
   "language": "python",
   "name": "python3"
  },
  "language_info": {
   "codemirror_mode": {
    "name": "ipython",
    "version": 3
   },
   "file_extension": ".py",
   "mimetype": "text/x-python",
   "name": "python",
   "nbconvert_exporter": "python",
   "pygments_lexer": "ipython3",
   "version": "3.9.13"
  },
  "orig_nbformat": 4
 },
 "nbformat": 4,
 "nbformat_minor": 2
}
